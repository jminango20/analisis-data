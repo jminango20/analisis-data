{
 "cells": [
  {
   "cell_type": "markdown",
   "id": "41b3661a",
   "metadata": {},
   "source": [
    "## Media"
   ]
  },
  {
   "cell_type": "code",
   "execution_count": 1,
   "id": "e673ea79",
   "metadata": {},
   "outputs": [],
   "source": [
    "import numpy as np"
   ]
  },
  {
   "cell_type": "code",
   "execution_count": null,
   "id": "87ef5ca9",
   "metadata": {},
   "outputs": [],
   "source": [
    "#Listas-> [1,2,3]\n",
    "#Diccionarios -> {1,2,4,5}\n",
    "#Tuplas -> (1,2,3)"
   ]
  },
  {
   "cell_type": "code",
   "execution_count": 2,
   "id": "be62b980",
   "metadata": {},
   "outputs": [],
   "source": [
    "data = [10, 15, 20, 18, 17] "
   ]
  },
  {
   "cell_type": "code",
   "execution_count": 3,
   "id": "7ddc7830",
   "metadata": {},
   "outputs": [
    {
     "name": "stdout",
     "output_type": "stream",
     "text": [
      "[10, 15, 20, 18, 17]\n"
     ]
    }
   ],
   "source": [
    "print(data)"
   ]
  },
  {
   "cell_type": "code",
   "execution_count": 4,
   "id": "4938159a",
   "metadata": {},
   "outputs": [],
   "source": [
    "suma = 10 + 15 + 20 + 18 + 17"
   ]
  },
  {
   "cell_type": "code",
   "execution_count": 5,
   "id": "1ac1d8c9",
   "metadata": {},
   "outputs": [
    {
     "name": "stdout",
     "output_type": "stream",
     "text": [
      "Media: 16.0\n"
     ]
    }
   ],
   "source": [
    "media = suma / 5\n",
    "print(\"Media:\", media)"
   ]
  },
  {
   "cell_type": "code",
   "execution_count": 6,
   "id": "23e849c4",
   "metadata": {},
   "outputs": [],
   "source": [
    "mean = np.mean(data)"
   ]
  },
  {
   "cell_type": "code",
   "execution_count": 7,
   "id": "7dfc88b1",
   "metadata": {},
   "outputs": [
    {
     "name": "stdout",
     "output_type": "stream",
     "text": [
      "Media: 16.0\n"
     ]
    }
   ],
   "source": [
    "print(\"Media:\", mean)"
   ]
  },
  {
   "cell_type": "code",
   "execution_count": 8,
   "id": "da6322c3",
   "metadata": {},
   "outputs": [],
   "source": [
    "##Limitaciones"
   ]
  },
  {
   "cell_type": "code",
   "execution_count": 9,
   "id": "736b7bf5",
   "metadata": {},
   "outputs": [
    {
     "data": {
      "text/plain": [
       "[500, 650, 600, 700, 10000]"
      ]
     },
     "execution_count": 9,
     "metadata": {},
     "output_type": "execute_result"
    }
   ],
   "source": [
    "sueldos = [500, 650, 600, 700, 10000]\n",
    "sueldos"
   ]
  },
  {
   "cell_type": "code",
   "execution_count": 10,
   "id": "471dc4d1",
   "metadata": {},
   "outputs": [
    {
     "name": "stdout",
     "output_type": "stream",
     "text": [
      "Media: 2490.0\n"
     ]
    }
   ],
   "source": [
    "mediaSueldos = np.mean(sueldos)\n",
    "print(\"Media:\", mediaSueldos)"
   ]
  },
  {
   "cell_type": "code",
   "execution_count": 11,
   "id": "5ab1c4c2",
   "metadata": {},
   "outputs": [],
   "source": [
    "datoSensor = [10, 2, 35, 4, 120]"
   ]
  },
  {
   "cell_type": "code",
   "execution_count": 12,
   "id": "a0bbadf2",
   "metadata": {},
   "outputs": [
    {
     "name": "stdout",
     "output_type": "stream",
     "text": [
      "Media: 34.2\n"
     ]
    }
   ],
   "source": [
    "mediaDatoSensor = np.mean(datoSensor)\n",
    "print(\"Media:\", mediaDatoSensor)"
   ]
  },
  {
   "cell_type": "markdown",
   "id": "9435f303",
   "metadata": {},
   "source": [
    "## Mediana"
   ]
  },
  {
   "cell_type": "code",
   "execution_count": null,
   "id": "1a40ebdb",
   "metadata": {},
   "outputs": [],
   "source": [
    "import numpy as np"
   ]
  },
  {
   "cell_type": "code",
   "execution_count": 25,
   "id": "281a9508",
   "metadata": {},
   "outputs": [],
   "source": [
    "data = [15, 20, 25, 30, 10, 35, 45]"
   ]
  },
  {
   "cell_type": "code",
   "execution_count": 26,
   "id": "cb4b4f60",
   "metadata": {},
   "outputs": [
    {
     "data": {
      "text/plain": [
       "array([10, 15, 20, 25, 30, 35, 45])"
      ]
     },
     "execution_count": 26,
     "metadata": {},
     "output_type": "execute_result"
    }
   ],
   "source": [
    "sorted_data = np.sort(data)  # Ordena los datos de menor a mayor\n",
    "sorted_data"
   ]
  },
  {
   "cell_type": "code",
   "execution_count": 27,
   "id": "b4ee8206",
   "metadata": {},
   "outputs": [
    {
     "data": {
      "text/plain": [
       "7"
      ]
     },
     "execution_count": 27,
     "metadata": {},
     "output_type": "execute_result"
    }
   ],
   "source": [
    "n = len(sorted_data)\n",
    "n"
   ]
  },
  {
   "cell_type": "code",
   "execution_count": 28,
   "id": "0ba4abba",
   "metadata": {},
   "outputs": [
    {
     "name": "stdout",
     "output_type": "stream",
     "text": [
      "Mediana: 25\n"
     ]
    }
   ],
   "source": [
    "if n % 2 == 1:  # Si la cantidad de datos es impar\n",
    "    median = sorted_data[n // 2]  # La mediana es el valor del medio\n",
    "else:  # Si la cantidad de datos es par\n",
    "    middle1 = sorted_data[n // 2 - 1]  # Primer valor del medio\n",
    "    middle2 = sorted_data[n // 2]  # Segundo valor del medio\n",
    "    median = (middle1 + middle2) / 2  # Mediana es el promedio de los dos valores del medio\n",
    "\n",
    "print(\"Mediana:\", median)\n"
   ]
  },
  {
   "cell_type": "code",
   "execution_count": 29,
   "id": "66cf43ba",
   "metadata": {},
   "outputs": [
    {
     "data": {
      "text/plain": [
       "25.0"
      ]
     },
     "execution_count": 29,
     "metadata": {},
     "output_type": "execute_result"
    }
   ],
   "source": [
    "#Usando numpy\n",
    "np.median(sorted_data)"
   ]
  },
  {
   "cell_type": "markdown",
   "id": "a6d4e266",
   "metadata": {},
   "source": [
    "## Moda"
   ]
  },
  {
   "cell_type": "code",
   "execution_count": 32,
   "id": "f8e44791",
   "metadata": {},
   "outputs": [],
   "source": [
    "def calculate_mode(data):\n",
    "    unique_values, counts = np.unique(data, return_counts=True)\n",
    "    max_count = counts.max()\n",
    "    mode_values = unique_values[counts == max_count]\n",
    "    \n",
    "    return mode_values"
   ]
  },
  {
   "cell_type": "code",
   "execution_count": 36,
   "id": "399a9d31",
   "metadata": {},
   "outputs": [],
   "source": [
    "data = np.array([15, 10, 20, 25, 30, 35, 29, 60, 40])"
   ]
  },
  {
   "cell_type": "code",
   "execution_count": 37,
   "id": "181ae7ca",
   "metadata": {},
   "outputs": [
    {
     "name": "stdout",
     "output_type": "stream",
     "text": [
      "Moda: [10 15 20 25 29 30 35 40 60]\n"
     ]
    }
   ],
   "source": [
    "modes = calculate_mode(data)\n",
    "\n",
    "print(\"Moda:\", modes)\n"
   ]
  },
  {
   "cell_type": "markdown",
   "id": "69ec2088",
   "metadata": {},
   "source": [
    "## Desviación estándar."
   ]
  },
  {
   "cell_type": "code",
   "execution_count": null,
   "id": "21b9af38",
   "metadata": {},
   "outputs": [],
   "source": [
    "datos = [10, 15, 20, 25, 30]"
   ]
  },
  {
   "cell_type": "code",
   "execution_count": null,
   "id": "3b4da9ba",
   "metadata": {},
   "outputs": [],
   "source": [
    "# Paso 1: Calcula la media\n",
    "mean = np.sum(datos) / len(datos)"
   ]
  },
  {
   "cell_type": "code",
   "execution_count": null,
   "id": "fac822da",
   "metadata": {},
   "outputs": [],
   "source": [
    "# Paso 2: Calcula las diferencias entre los datos y la media, luego eleva al cuadrado\n",
    "squared_diff = [(x - mean) ** 2 for x in data]"
   ]
  },
  {
   "cell_type": "code",
   "execution_count": null,
   "id": "d3985499",
   "metadata": {},
   "outputs": [],
   "source": [
    "# Paso 3: Calcula la varianza (promedio de las diferencias al cuadrado)\n",
    "variance = np.sum(squared_diff) / len(data)"
   ]
  },
  {
   "cell_type": "code",
   "execution_count": null,
   "id": "8c03785e",
   "metadata": {},
   "outputs": [],
   "source": [
    "# Paso 4: Calcula la desviación estándar (raíz cuadrada de la varianza)\n",
    "std_dev = variance ** 0.5\n",
    "\n",
    "print(\"Desviación Estándar:\", std_dev)"
   ]
  },
  {
   "cell_type": "code",
   "execution_count": null,
   "id": "0447ad5a",
   "metadata": {},
   "outputs": [],
   "source": [
    "std_dev = np.std(datos)"
   ]
  },
  {
   "cell_type": "code",
   "execution_count": null,
   "id": "d4e54c13",
   "metadata": {},
   "outputs": [],
   "source": [
    "print(\"Desviación Estándar:\", std_dev)"
   ]
  },
  {
   "cell_type": "markdown",
   "id": "c05f379c",
   "metadata": {},
   "source": [
    "## Representación e Interpretación Gráfica de Datos "
   ]
  },
  {
   "cell_type": "code",
   "execution_count": null,
   "id": "5de0b89e",
   "metadata": {},
   "outputs": [],
   "source": [
    "import matplotlib.pyplot as plt"
   ]
  },
  {
   "cell_type": "markdown",
   "id": "68d43150",
   "metadata": {},
   "source": [
    "### Ejemplo de Gráfico de Histogramas en Python:"
   ]
  },
  {
   "cell_type": "markdown",
   "id": "3204b699",
   "metadata": {},
   "source": [
    "Los histogramas son útiles para representar la distribución de una variable. Muestran cómo se distribuyen los datos en intervalos (bins) y proporcionan una imagen de la forma de la distribución."
   ]
  },
  {
   "cell_type": "code",
   "execution_count": null,
   "id": "8bb907f9",
   "metadata": {},
   "outputs": [],
   "source": [
    "data = [10, 15, 20, 25, 30, 35, 40, 45, 50]"
   ]
  },
  {
   "cell_type": "code",
   "execution_count": null,
   "id": "4b548c5e",
   "metadata": {},
   "outputs": [],
   "source": [
    "plt.hist(data, bins=5, edgecolor='k')\n",
    "plt.xlabel('Valores')\n",
    "plt.ylabel('Frecuencia')\n",
    "plt.title('Histograma de Datos')\n",
    "plt.show()"
   ]
  },
  {
   "cell_type": "code",
   "execution_count": null,
   "id": "9dcfc15a",
   "metadata": {},
   "outputs": [],
   "source": [
    "data = np.random.normal(0, 1, 1000)  # Datos aleatorios con distribución normal"
   ]
  },
  {
   "cell_type": "code",
   "execution_count": null,
   "id": "96a7ac06",
   "metadata": {},
   "outputs": [],
   "source": [
    "plt.hist(data, bins=20, edgecolor='k')\n",
    "plt.xlabel('Valores')\n",
    "plt.ylabel('Frecuencia')\n",
    "plt.title('Ejemplo de Histograma')\n",
    "plt.show()"
   ]
  },
  {
   "cell_type": "markdown",
   "id": "742f6ca2",
   "metadata": {},
   "source": [
    "### Ejemplo de Gráfico de Barras en Python:"
   ]
  },
  {
   "cell_type": "markdown",
   "id": "0d867439",
   "metadata": {},
   "source": [
    "Utiliza para representar datos categóricos o discretos. Este tipo de gráfico utiliza barras rectangulares de longitudes proporcionales para mostrar y comparar los valores de diferentes categorías. Cada barra representa una categoría y su altura es proporcional al valor que representa."
   ]
  },
  {
   "cell_type": "code",
   "execution_count": null,
   "id": "2f5adddc",
   "metadata": {},
   "outputs": [],
   "source": [
    "categorias = ['A', 'B', 'C', 'D', 'E']\n",
    "valores = [12, 8, 15, 10, 5]"
   ]
  },
  {
   "cell_type": "code",
   "execution_count": null,
   "id": "0c7ecbaa",
   "metadata": {},
   "outputs": [],
   "source": [
    "plt.bar(categorias, valores)\n",
    "plt.xlabel('Categorías')\n",
    "plt.ylabel('Valores')\n",
    "plt.title('Ejemplo de Gráfico de Barras')\n",
    "plt.show()"
   ]
  },
  {
   "cell_type": "markdown",
   "id": "2c41cf04",
   "metadata": {},
   "source": [
    "### Ejemplo de Dispersión en Python:"
   ]
  },
  {
   "cell_type": "markdown",
   "id": "b487af66",
   "metadata": {},
   "source": [
    "Los gráficos de dispersión son ideales para visualizar la relación entre dos variables.  Cada punto en el gráfico representa un par de valores, lo que permite identificar patrones, tendencias y correlaciones"
   ]
  },
  {
   "cell_type": "code",
   "execution_count": null,
   "id": "a426aa20",
   "metadata": {},
   "outputs": [],
   "source": [
    "# Datos de ejemplo: Pares de valores (x, y)\n",
    "x = [1, 2, 3, 4, 5, 6, 7, 8, 9, 10]\n",
    "y = [3, 5, 2, 7, 8, 4, 9, 6, 10, 5]"
   ]
  },
  {
   "cell_type": "code",
   "execution_count": null,
   "id": "37000bb8",
   "metadata": {},
   "outputs": [],
   "source": [
    "# Crear un gráfico de dispersión\n",
    "plt.scatter(x, y)\n",
    "\n",
    "# Personalizar el gráfico\n",
    "plt.title('Gráfico de Dispersión')\n",
    "plt.xlabel('Eje X')\n",
    "plt.ylabel('Eje Y')\n",
    "\n",
    "# Mostrar el gráfico\n",
    "plt.show()"
   ]
  },
  {
   "cell_type": "markdown",
   "id": "3ddab5d8",
   "metadata": {},
   "source": [
    "### Ejemplo de Box Plot en Python:"
   ]
  },
  {
   "cell_type": "markdown",
   "id": "d36c3494",
   "metadata": {},
   "source": [
    "Los box plots son útiles para visualizar la distribución de datos y detectar valores atípicos. Proporcionan información sobre la mediana, el rango intercuartílico y los valores extremos."
   ]
  },
  {
   "cell_type": "markdown",
   "id": "952e062b",
   "metadata": {},
   "source": [
    "<img src=\"BoxPlot.png\" alt=\"Texto Alternativo\">"
   ]
  },
  {
   "cell_type": "code",
   "execution_count": null,
   "id": "1f5d45cc",
   "metadata": {},
   "outputs": [],
   "source": [
    "data = np.random.normal(0, 1, 1000)  # Datos aleatorios con distribución normal"
   ]
  },
  {
   "cell_type": "code",
   "execution_count": null,
   "id": "01024db5",
   "metadata": {},
   "outputs": [],
   "source": [
    "plt.boxplot(data)\n",
    "plt.ylabel('Valores')\n",
    "plt.title('Ejemplo de Box Plot')\n",
    "plt.show()"
   ]
  },
  {
   "cell_type": "markdown",
   "id": "a1af3f1d",
   "metadata": {},
   "source": [
    "### Ejemplos Prácticos"
   ]
  },
  {
   "cell_type": "code",
   "execution_count": null,
   "id": "bed66f7b",
   "metadata": {},
   "outputs": [],
   "source": [
    "# Conjunto de datos de calificaciones\n",
    "calificaciones = [75, 85, 90, 92, 78, 88, 65, 72, 95, 89]"
   ]
  },
  {
   "cell_type": "code",
   "execution_count": null,
   "id": "981bc264",
   "metadata": {},
   "outputs": [],
   "source": [
    "# I. Cálculo de la Media (Promedio)\n",
    "media = np.mean(calificaciones)\n",
    "print(\"Media de calificaciones:\", media)"
   ]
  },
  {
   "cell_type": "code",
   "execution_count": null,
   "id": "664ad758",
   "metadata": {},
   "outputs": [],
   "source": [
    "# II. Cálculo de la Desviación Estándar\n",
    "desviacion_estandar = np.std(calificaciones)\n",
    "print(\"Desviación Estándar de calificaciones:\", desviacion_estandar)"
   ]
  },
  {
   "cell_type": "code",
   "execution_count": null,
   "id": "cea0e076",
   "metadata": {},
   "outputs": [],
   "source": [
    "# III. Creación de un Histograma para Visualizar las Calificaciones\n",
    "plt.hist(calificaciones, bins=5, edgecolor='k')\n",
    "plt.xlabel('Calificaciones')\n",
    "plt.ylabel('Frecuencia')\n",
    "plt.title('Histograma de Calificaciones')\n",
    "plt.show()"
   ]
  },
  {
   "cell_type": "code",
   "execution_count": null,
   "id": "544982cc",
   "metadata": {},
   "outputs": [],
   "source": [
    "# IV. Creación de un Box Plot para Visualizar las Calificaciones\n",
    "plt.boxplot(calificaciones)\n",
    "plt.ylabel('Calificaciones')\n",
    "plt.title('Box Plot de Calificaciones')\n",
    "plt.show()"
   ]
  },
  {
   "cell_type": "code",
   "execution_count": null,
   "id": "4c93f3a8",
   "metadata": {},
   "outputs": [],
   "source": []
  }
 ],
 "metadata": {
  "kernelspec": {
   "display_name": "Python 3 (ipykernel)",
   "language": "python",
   "name": "python3"
  },
  "language_info": {
   "codemirror_mode": {
    "name": "ipython",
    "version": 3
   },
   "file_extension": ".py",
   "mimetype": "text/x-python",
   "name": "python",
   "nbconvert_exporter": "python",
   "pygments_lexer": "ipython3",
   "version": "3.11.5"
  }
 },
 "nbformat": 4,
 "nbformat_minor": 5
}
